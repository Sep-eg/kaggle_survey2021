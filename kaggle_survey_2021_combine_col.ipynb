{
  "nbformat": 4,
  "nbformat_minor": 0,
  "metadata": {
    "colab": {
      "name": "kaggle_survey_2021_combine_col.ipynb",
      "private_outputs": true,
      "provenance": [],
      "collapsed_sections": []
    },
    "kernelspec": {
      "name": "python3",
      "display_name": "Python 3"
    },
    "language_info": {
      "name": "python"
    }
  },
  "cells": [
    {
      "cell_type": "code",
      "metadata": {
        "id": "T1Y8r7BXrx4A"
      },
      "source": [
        "from google.colab import drive\n",
        "drive.mount('/content/drive')"
      ],
      "execution_count": null,
      "outputs": []
    },
    {
      "cell_type": "code",
      "metadata": {
        "id": "885mUxWhryvw"
      },
      "source": [
        "import pandas as pd\n",
        "import numpy as np"
      ],
      "execution_count": null,
      "outputs": []
    },
    {
      "cell_type": "code",
      "metadata": {
        "id": "KhxHoDPysErP"
      },
      "source": [
        "response = pd.read_csv('/content/drive/My Drive/kaggle-survey-2021/kaggle_survey_2021_responses.csv')\n",
        "response"
      ],
      "execution_count": null,
      "outputs": []
    },
    {
      "cell_type": "code",
      "metadata": {
        "id": "bk-IMwmhrs7K"
      },
      "source": [
        "response.drop(index=0, inplace=True) # 첫째 행 삭제, column title은 추후 수정 예정\n",
        "response.index = range(len(response)) # index 재조정\n",
        "response = response.fillna('') # NaN → 빈값으로 변경\n",
        "response"
      ],
      "execution_count": null,
      "outputs": []
    },
    {
      "cell_type": "code",
      "metadata": {
        "id": "Qb6iyeL1sMwh"
      },
      "source": [
        "# Question 별 dataframe 생성\n",
        "for i in range(7, 39):\n",
        "  globals()[f'Q{i}'] = response.filter(regex=f'Q{i}')\n",
        "\n",
        "## dataframe 항목별로 생성\n",
        "# ~Q6까지만\n",
        "new_response = response[['Time from Start to Finish (seconds)', 'Q1', 'Q2', 'Q3', 'Q4', 'Q5', 'Q6']]\n",
        "new_response\n",
        "# Q7~Q38 빈 column 생성\n",
        "for i in range(7, 39):\n",
        "  new_response[f'Q{i}'] = ''\n",
        "\n",
        "# 문항별 데이터 취합 - 5분 소요\n",
        "for i in range(7, 39):\n",
        "  for j in range(len(response)):\n",
        "    new_response[f'Q{i}'][j] = ','.join(eval('Q'+str(i)).iloc[j,:].values.tolist()).replace(',,', '')"
      ],
      "execution_count": null,
      "outputs": []
    },
    {
      "cell_type": "code",
      "metadata": {
        "id": "F2Fbbqe1wJ66"
      },
      "source": [
        "new_response"
      ],
      "execution_count": null,
      "outputs": []
    },
    {
      "cell_type": "code",
      "metadata": {
        "id": "Xuv9Ripks9K4"
      },
      "source": [
        "new_response[new_response['Q7'].str.contains('Python')]"
      ],
      "execution_count": null,
      "outputs": []
    },
    {
      "cell_type": "code",
      "metadata": {
        "id": "Hw10fVCOuc6k"
      },
      "source": [
        "response"
      ],
      "execution_count": null,
      "outputs": []
    },
    {
      "cell_type": "code",
      "metadata": {
        "id": "i7XCcOABu8qt"
      },
      "source": [
        "response['Q7_Part_1'] +','+ response['Q7_Part_2']"
      ],
      "execution_count": null,
      "outputs": []
    },
    {
      "cell_type": "code",
      "metadata": {
        "id": "f_bitcbOvBZ_"
      },
      "source": [
        ""
      ],
      "execution_count": null,
      "outputs": []
    }
  ]
}