{
  "nbformat": 4,
  "nbformat_minor": 0,
  "metadata": {
    "colab": {
      "name": "2021_kaggle_survey_GHK.ipynb",
      "private_outputs": true,
      "provenance": [],
      "authorship_tag": "ABX9TyO6f1wyNferGf/MuJbolaLg",
      "include_colab_link": true
    },
    "kernelspec": {
      "name": "python3",
      "display_name": "Python 3"
    },
    "language_info": {
      "name": "python"
    }
  },
  "cells": [
    {
      "cell_type": "markdown",
      "metadata": {
        "id": "view-in-github",
        "colab_type": "text"
      },
      "source": [
        "<a href=\"https://colab.research.google.com/github/Sep-eg/kaggle_survey2021/blob/main/2021_kaggle_survey_GHK.ipynb\" target=\"_parent\"><img src=\"https://colab.research.google.com/assets/colab-badge.svg\" alt=\"Open In Colab\"/></a>"
      ]
    },
    {
      "cell_type": "markdown",
      "metadata": {
        "id": "UyguXcXq3p4B"
      },
      "source": [
        "## 데이터 불러오기"
      ]
    },
    {
      "cell_type": "code",
      "metadata": {
        "id": "LszKB0dOKOrP"
      },
      "source": [
        "!mkdir ~/.kaggle # api키 보관용 폴더 생성\n",
        "!cp kaggle.json ~/.kaggle # api키 파일을 보관용 폴더에 복사\n",
        "!kaggle competitions download -c kaggle-survey-2021 # kaggle survey 2021 데이터 다운로드"
      ],
      "execution_count": null,
      "outputs": []
    },
    {
      "cell_type": "code",
      "metadata": {
        "id": "oNPM1HsJKG0n"
      },
      "source": [
        "import pandas as pd"
      ],
      "execution_count": null,
      "outputs": []
    },
    {
      "cell_type": "code",
      "metadata": {
        "id": "Shl9-18fKhkF"
      },
      "source": [
        "response = pd.read_csv(\"/content/kaggle_survey_2021_responses.csv.zip\")"
      ],
      "execution_count": null,
      "outputs": []
    },
    {
      "cell_type": "code",
      "metadata": {
        "id": "NknsMQT7KL_-"
      },
      "source": [
        "response.head()"
      ],
      "execution_count": null,
      "outputs": []
    },
    {
      "cell_type": "code",
      "metadata": {
        "id": "_6xRw5nIIrLv"
      },
      "source": [
        "response = response.loc[:][1:] # 질문을 담고있는 첫번째 행 제거\n",
        "response.reset_index(drop=True, inplace=True) # 인덱스 초기화"
      ],
      "execution_count": null,
      "outputs": []
    },
    {
      "cell_type": "code",
      "metadata": {
        "id": "XPSemlpeI0WF"
      },
      "source": [
        "response.head()"
      ],
      "execution_count": null,
      "outputs": []
    },
    {
      "cell_type": "markdown",
      "metadata": {
        "id": "4P0YEqTa3vMp"
      },
      "source": [
        "## 질문합치기\n",
        "모두를 대상으로 질문한 총 42개의 메인 문항과\n",
        "\n",
        "비전문가 계열에게 질문한 8개의 보충 문항을 분류한뒤 각각을 질문 카테고리별로 합칩니다."
      ]
    },
    {
      "cell_type": "code",
      "metadata": {
        "id": "-k3ggqNKJx-3"
      },
      "source": [
        "questions = response.columns"
      ],
      "execution_count": null,
      "outputs": []
    },
    {
      "cell_type": "code",
      "metadata": {
        "id": "5Z8HTyohRaNU"
      },
      "source": [
        "# 보충 질문(비전문가 문항)과 메인 질문 구분\n",
        "supple_survey_columns = [] # 보충질문의 칼럼명을 담기위한 리스트\n",
        "\n",
        "# 모든 질문을 순회하면서 보충 질문을 담은 칼럼명을 저장\n",
        "for quest in questions:\n",
        "    if '_' in quest:\n",
        "        if quest.split('_')[1] == 'B': # B가 질문에 포함되면 리스트에 추가\n",
        "            supple_survey_columns.append(quest)\n",
        "    else:\n",
        "        pass"
      ],
      "execution_count": null,
      "outputs": []
    },
    {
      "cell_type": "code",
      "metadata": {
        "id": "h7aTL7Q_RxaM"
      },
      "source": [
        "# 보충 질문을 제외한 모든 문항은 메인 질문으로 저장\n",
        "main_survey_columns = questions.drop(supple_survey_columns)"
      ],
      "execution_count": null,
      "outputs": []
    },
    {
      "cell_type": "markdown",
      "metadata": {
        "id": "pklexJNaNYsm"
      },
      "source": [
        "많은 질문이 다중선택 질문이며, 모든 답변이 각각의 칼럼으로 나누어져 있습니다.\n",
        "\n",
        "이를 합치기 위해 dictionary를 활용하여 각 질문 번호를 key, 답변 번호를 리스트로 이루어진 value로 저장하겠습니다."
      ]
    },
    {
      "cell_type": "code",
      "metadata": {
        "id": "yj8U7XXoSvKT"
      },
      "source": [
        "supple_dict = {col.split('_')[0] : [] for col in supple_survey_columns}\n",
        "for col in supple_survey_columns:\n",
        "    supple_dict[col.split('_')[0]].append(col)\n",
        "\n",
        "main_dict = {col.split('_')[0]: [] for col in main_survey_columns}\n",
        "for col in main_survey_columns:\n",
        "    main_dict[col.split('_')[0]].append(col)"
      ],
      "execution_count": null,
      "outputs": []
    },
    {
      "cell_type": "markdown",
      "metadata": {
        "id": "C8YrsKuENkjJ"
      },
      "source": [
        "답변을 하나로 합치기 위해 더할 때 Nan값은 더해질 수 없습니다.(무시하고 더할 경우 모든 값이 Nan)\n",
        "\n",
        "해당 데이터의 결측치는 모두 설문 미응답이므로 'Not responded'로 대체하겠습니다."
      ]
    },
    {
      "cell_type": "code",
      "metadata": {
        "id": "Az89s2wrVxK2"
      },
      "source": [
        "supple_response = response[supple_survey_columns].fillna('Not responded')\n",
        "main_response = response[main_survey_columns].fillna('Not responded')"
      ],
      "execution_count": null,
      "outputs": []
    },
    {
      "cell_type": "markdown",
      "metadata": {
        "id": "giP3UMdGN86l"
      },
      "source": [
        "메인 답변과 보충 답변을 나누는 기반작업은 끝났고, 본격적으로 답변을 합쳐 하나의 칼럼에 담도록 하겠습니다."
      ]
    },
    {
      "cell_type": "code",
      "metadata": {
        "id": "RBHG6tmxsmYq"
      },
      "source": [
        "def split_dropnone(response): \n",
        "    '''\n",
        "    더해진 답변들을 리스트로 만들기 위한 함수\n",
        "    '''\n",
        "    # 각각의 답변을 순회하면서 Not responded가 아니라면, tmp_list에 추가\n",
        "    tmp_list = [data for data in response.split(',') if data != 'Not responded']\n",
        "    if len(tmp_list) == 0: # tmp_list의 길이가 0이라면 즉, 답변이 없었다면 Not responded 반환\n",
        "        return 'Not responded'\n",
        "    else: # tmp_list가 비어있지 않다면 tmp_list 반환\n",
        "        return tmp_list"
      ],
      "execution_count": null,
      "outputs": []
    },
    {
      "cell_type": "code",
      "metadata": {
        "id": "CGF6R602V2qZ"
      },
      "source": [
        "for key, value in supple_dict.items():\n",
        "    # 답변을 합치기 위해 첫번째 답변을 tmp_series에 담고 나머지 답변 순회\n",
        "    tmp_series = pd.Series(supple_response[value[0]])\n",
        "    for col in value[1:]:\n",
        "        tmp_series = tmp_series + ',' + supple_response[col] # ,를 기준으로 답변취합\n",
        "    supple_response[key] = tmp_series # 질문번호를 칼럼명으로 취합된 답변을 담은 새로운 칼럼 생성\n",
        "    supple_response.drop(value, axis=1, inplace=True) # 기존의 나눠져있는 답변칼럼 모두 제거\n",
        "    supple_response[key] = supple_response[key].map(split_dropnone) # ,를 기준으로 나눠진 답변을 리스트로 변경"
      ],
      "execution_count": null,
      "outputs": []
    },
    {
      "cell_type": "code",
      "metadata": {
        "id": "D8KANKEjsNrr"
      },
      "source": [
        "# 기본적인 원리는 보충질문과 같지만, 단일 답변으로 구성된 질문이 존재\n",
        "for key, value in main_dict.items():\n",
        "    tmp_series = pd.Series(main_response[value[0]])\n",
        "    flag = 0 # 단일답변 질문을 골라내기 위해 flag변수 설정\n",
        "    if len(value) > 1: # 다중선택 질문일 경우 실행\n",
        "        flag += 1\n",
        "        for col in value[1:]:\n",
        "            tmp_series = tmp_series + ',' + main_response[col]\n",
        "        main_response[key] = tmp_series\n",
        "    if flag == 1: # 다중선택 질문일 경우 나머지 칼럼 제거 및 답변을 리스트로 저장\n",
        "        main_response.drop(value, axis=1, inplace=True)\n",
        "        main_response[key] = main_response[key].map(split_dropnone)"
      ],
      "execution_count": null,
      "outputs": []
    },
    {
      "cell_type": "code",
      "metadata": {
        "id": "sCz36IuEDfwu"
      },
      "source": [
        "def search_list(sc_word:str, sc_list):\n",
        "    '''\n",
        "    리스트로 이루어진 답변을 탐색하기 위한 함수\n",
        "    sc_word:str, 찾고자 하는 단어(모두 소문자 혹은 정확한 입력 사용)\n",
        "    sc_list:list, 검색할 리스트\n",
        "    df.apply(lambda x: search_list(sc_word, x)) 형태로 사용\n",
        "    '''\n",
        "    if sc_word in ' '.join(sc_list) + ' '.join(sc_list).lower():\n",
        "        return True\n",
        "    else:\n",
        "        return False"
      ],
      "execution_count": null,
      "outputs": []
    },
    {
      "cell_type": "code",
      "metadata": {
        "id": "_XhlpTY0JIDg"
      },
      "source": [
        "pro_user_idx = supple_response[(supple_response['Q27'] == 'Not responded') &\n",
        "                               (supple_response['Q29'] == 'Not responded') &\n",
        "                               (supple_response['Q30'] == 'Not responded') &\n",
        "                               (supple_response['Q31'] == 'Not responded') &\n",
        "                               (supple_response['Q32'] == 'Not responded') &\n",
        "                               (supple_response['Q34'] == 'Not responded') &\n",
        "                               (supple_response['Q36'] == 'Not responded') &\n",
        "                               (supple_response['Q37'] == 'Not responded') &\n",
        "                               (supple_response['Q38'] == 'Not responded')].index"
      ],
      "execution_count": null,
      "outputs": []
    },
    {
      "cell_type": "code",
      "metadata": {
        "id": "umLMt2h5LaHo"
      },
      "source": [
        "main_response.loc[pro_user_idx, :]"
      ],
      "execution_count": null,
      "outputs": []
    }
  ]
}