{
  "nbformat": 4,
  "nbformat_minor": 0,
  "metadata": {
    "colab": {
      "name": "kaggle_survey_2021_cleaning.ipynb",
      "provenance": [],
      "authorship_tag": "ABX9TyNqpgXpbvCfL1vus1fbrZwI",
      "include_colab_link": true
    },
    "kernelspec": {
      "name": "python3",
      "display_name": "Python 3"
    },
    "language_info": {
      "name": "python"
    }
  },
  "cells": [
    {
      "cell_type": "markdown",
      "metadata": {
        "id": "view-in-github",
        "colab_type": "text"
      },
      "source": [
        "<a href=\"https://colab.research.google.com/github/eeuunnjjiii/kaggle_survey2021/blob/main/kaggle_survey_2021_cleaning.ipynb\" target=\"_parent\"><img src=\"https://colab.research.google.com/assets/colab-badge.svg\" alt=\"Open In Colab\"/></a>"
      ]
    },
    {
      "cell_type": "markdown",
      "metadata": {
        "id": "66NoZZptctEd"
      },
      "source": [
        "# 캐글 데이터 연동하기"
      ]
    },
    {
      "cell_type": "code",
      "metadata": {
        "colab": {
          "resources": {
            "http://localhost:8080/nbextensions/google.colab/files.js": {
              "data": "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",
              "ok": true,
              "headers": [
                [
                  "content-type",
                  "application/javascript"
                ]
              ],
              "status": 200,
              "status_text": ""
            }
          },
          "base_uri": "https://localhost:8080/",
          "height": 266
        },
        "id": "GLbgalK8c0iW",
        "outputId": "4b6d1244-b0d6-4aa5-b7a8-e40dac123669"
      },
      "source": [
        "!pip install kaggle\n",
        "from google.colab import files\n",
        "files.upload()"
      ],
      "execution_count": 1,
      "outputs": [
        {
          "output_type": "stream",
          "name": "stdout",
          "text": [
            "Requirement already satisfied: kaggle in /usr/local/lib/python3.7/dist-packages (1.5.12)\n",
            "Requirement already satisfied: six>=1.10 in /usr/local/lib/python3.7/dist-packages (from kaggle) (1.15.0)\n",
            "Requirement already satisfied: python-dateutil in /usr/local/lib/python3.7/dist-packages (from kaggle) (2.8.2)\n",
            "Requirement already satisfied: certifi in /usr/local/lib/python3.7/dist-packages (from kaggle) (2021.5.30)\n",
            "Requirement already satisfied: python-slugify in /usr/local/lib/python3.7/dist-packages (from kaggle) (5.0.2)\n",
            "Requirement already satisfied: urllib3 in /usr/local/lib/python3.7/dist-packages (from kaggle) (1.24.3)\n",
            "Requirement already satisfied: tqdm in /usr/local/lib/python3.7/dist-packages (from kaggle) (4.62.3)\n",
            "Requirement already satisfied: requests in /usr/local/lib/python3.7/dist-packages (from kaggle) (2.23.0)\n",
            "Requirement already satisfied: text-unidecode>=1.3 in /usr/local/lib/python3.7/dist-packages (from python-slugify->kaggle) (1.3)\n",
            "Requirement already satisfied: idna<3,>=2.5 in /usr/local/lib/python3.7/dist-packages (from requests->kaggle) (2.10)\n",
            "Requirement already satisfied: chardet<4,>=3.0.2 in /usr/local/lib/python3.7/dist-packages (from requests->kaggle) (3.0.4)\n"
          ]
        },
        {
          "output_type": "display_data",
          "data": {
            "text/html": [
              "\n",
              "     <input type=\"file\" id=\"files-5d7bd78f-d191-4ed1-94dd-c2cb2126acd8\" name=\"files[]\" multiple disabled\n",
              "        style=\"border:none\" />\n",
              "     <output id=\"result-5d7bd78f-d191-4ed1-94dd-c2cb2126acd8\">\n",
              "      Upload widget is only available when the cell has been executed in the\n",
              "      current browser session. Please rerun this cell to enable.\n",
              "      </output>\n",
              "      <script src=\"/nbextensions/google.colab/files.js\"></script> "
            ],
            "text/plain": [
              "<IPython.core.display.HTML object>"
            ]
          },
          "metadata": {}
        },
        {
          "output_type": "stream",
          "name": "stdout",
          "text": [
            "Saving kaggle.json to kaggle.json\n"
          ]
        },
        {
          "output_type": "execute_result",
          "data": {
            "text/plain": [
              "{'kaggle.json': b'{\"username\":\"eunjijeong\",\"key\":\"29fdf1c9b4bee7ef56c5520fc84d41dc\"}'}"
            ]
          },
          "metadata": {},
          "execution_count": 1
        }
      ]
    },
    {
      "cell_type": "code",
      "metadata": {
        "colab": {
          "base_uri": "https://localhost:8080/"
        },
        "id": "2n-ioyxkcpAE",
        "outputId": "8dc6de4b-0c90-4666-ba70-9c0913dbfe0b"
      },
      "source": [
        "!mkdir -p ~/.kaggle\n",
        "!cp kaggle.json ~/.kaggle/\n",
        "!chmod 600 ~/.kaggle/kaggle.json\n",
        "\n",
        "!kaggle competitions download -c kaggle-survey-2021\n",
        "!unzip kaggle_survey_2021_responses.csv.zip"
      ],
      "execution_count": 2,
      "outputs": [
        {
          "output_type": "stream",
          "name": "stdout",
          "text": [
            "Warning: Looks like you're using an outdated API Version, please consider updating (server 1.5.12 / client 1.5.4)\n",
            "Downloading kaggle_survey_2021_answer_choices.pdf to /content\n",
            "  0% 0.00/158k [00:00<?, ?B/s]\n",
            "100% 158k/158k [00:00<00:00, 58.3MB/s]\n",
            "Downloading kaggle_survey_2021_methodology.pdf to /content\n",
            "  0% 0.00/55.2k [00:00<?, ?B/s]\n",
            "100% 55.2k/55.2k [00:00<00:00, 47.1MB/s]\n",
            "Downloading kaggle_survey_2021_responses.csv.zip to /content\n",
            "  0% 0.00/2.86M [00:00<?, ?B/s]\n",
            "100% 2.86M/2.86M [00:00<00:00, 94.3MB/s]\n",
            "Archive:  kaggle_survey_2021_responses.csv.zip\n",
            "  inflating: kaggle_survey_2021_responses.csv  \n"
          ]
        }
      ]
    },
    {
      "cell_type": "code",
      "metadata": {
        "id": "885mUxWhryvw"
      },
      "source": [
        "import pandas as pd\n",
        "import seaborn as sns\n",
        "import matplotlib.pyplot as plt\n",
        "import warnings\n",
        "warnings.filterwarnings('ignore')\n",
        "import numpy as np"
      ],
      "execution_count": 3,
      "outputs": []
    },
    {
      "cell_type": "code",
      "metadata": {
        "id": "Or0q81Br-IYO"
      },
      "source": [
        "response = pd.read_csv('kaggle_survey_2021_responses.csv')\n",
        "response.head(3)\n",
        "res = response.copy()"
      ],
      "execution_count": 4,
      "outputs": []
    },
    {
      "cell_type": "markdown",
      "metadata": {
        "id": "-kt3XZ76PyDO"
      },
      "source": [
        "## 질문 통합"
      ]
    },
    {
      "cell_type": "code",
      "metadata": {
        "id": "RYWsB7fjJ-Bf"
      },
      "source": [
        "# index 0번 질문 삭제\n",
        "res.drop(0, inplace=True)"
      ],
      "execution_count": 5,
      "outputs": []
    },
    {
      "cell_type": "code",
      "metadata": {
        "id": "GVH4BxoEJZdU"
      },
      "source": [
        "def total_answer(column):\n",
        "  \"\"\"\n",
        "  컬럼별로 나누어진 응답을 통합하는 함수\n",
        "  column : 컬럼명\n",
        "  \"\"\"\n",
        "\n",
        "  # 해당 컬럼명이 들어간 컬럼 추출\n",
        "  col = res.columns[res.columns.str.contains(column)]\n",
        "  tmp = res[col]\n",
        "  # 결측치 ''로 채우기\n",
        "  tmp = tmp.fillna('')\n",
        "  # 컬럼별 응답 콤마(,)로 더하기\n",
        "  total = tmp.apply(','.join, axis=1)\n",
        "\n",
        "  # 정규표현식으로 필요없는 콤마(,) 처리\n",
        "  import re\n",
        "  ls = []\n",
        "  for i in total:\n",
        "    ls.append(re.sub(',{2,}', ',', i).strip(',')) ## 콤마가 2개 이상인 경우 하나로 바꾸기\n",
        "\n",
        "  # 나눠진 응답 삭제\n",
        "  res.drop(col, axis=1, inplace=True)\n",
        "\n",
        "  # 통합 응답 추가\n",
        "  res[column] = ls"
      ],
      "execution_count": 6,
      "outputs": []
    },
    {
      "cell_type": "code",
      "metadata": {
        "id": "SZgLc39PMn5m"
      },
      "source": [
        "for i in range(7, 43):\n",
        "  num = 'Q'+str(i) ## Q7, Q8, ...\n",
        "  total_answer(num) ## 함수 적용"
      ],
      "execution_count": 7,
      "outputs": []
    },
    {
      "cell_type": "code",
      "metadata": {
        "colab": {
          "base_uri": "https://localhost:8080/",
          "height": 707
        },
        "id": "A3ASa5RmOBU1",
        "outputId": "32abc24d-cecb-4223-83f8-5518605741cb"
      },
      "source": [
        "res.head()"
      ],
      "execution_count": 8,
      "outputs": [
        {
          "output_type": "execute_result",
          "data": {
            "text/html": [
              "<div>\n",
              "<style scoped>\n",
              "    .dataframe tbody tr th:only-of-type {\n",
              "        vertical-align: middle;\n",
              "    }\n",
              "\n",
              "    .dataframe tbody tr th {\n",
              "        vertical-align: top;\n",
              "    }\n",
              "\n",
              "    .dataframe thead th {\n",
              "        text-align: right;\n",
              "    }\n",
              "</style>\n",
              "<table border=\"1\" class=\"dataframe\">\n",
              "  <thead>\n",
              "    <tr style=\"text-align: right;\">\n",
              "      <th></th>\n",
              "      <th>Time from Start to Finish (seconds)</th>\n",
              "      <th>Q1</th>\n",
              "      <th>Q2</th>\n",
              "      <th>Q3</th>\n",
              "      <th>Q4</th>\n",
              "      <th>Q5</th>\n",
              "      <th>Q6</th>\n",
              "      <th>Q7</th>\n",
              "      <th>Q8</th>\n",
              "      <th>Q9</th>\n",
              "      <th>Q10</th>\n",
              "      <th>Q11</th>\n",
              "      <th>Q12</th>\n",
              "      <th>Q13</th>\n",
              "      <th>Q14</th>\n",
              "      <th>Q15</th>\n",
              "      <th>Q16</th>\n",
              "      <th>Q17</th>\n",
              "      <th>Q18</th>\n",
              "      <th>Q19</th>\n",
              "      <th>Q20</th>\n",
              "      <th>Q21</th>\n",
              "      <th>Q22</th>\n",
              "      <th>Q23</th>\n",
              "      <th>Q24</th>\n",
              "      <th>Q25</th>\n",
              "      <th>Q26</th>\n",
              "      <th>Q27</th>\n",
              "      <th>Q28</th>\n",
              "      <th>Q29</th>\n",
              "      <th>Q30</th>\n",
              "      <th>Q31</th>\n",
              "      <th>Q32</th>\n",
              "      <th>Q33</th>\n",
              "      <th>Q34</th>\n",
              "      <th>Q35</th>\n",
              "      <th>Q36</th>\n",
              "      <th>Q37</th>\n",
              "      <th>Q38</th>\n",
              "      <th>Q39</th>\n",
              "      <th>Q40</th>\n",
              "      <th>Q41</th>\n",
              "      <th>Q42</th>\n",
              "    </tr>\n",
              "  </thead>\n",
              "  <tbody>\n",
              "    <tr>\n",
              "      <th>1</th>\n",
              "      <td>910</td>\n",
              "      <td>50-54</td>\n",
              "      <td>Man</td>\n",
              "      <td>India</td>\n",
              "      <td>Bachelor’s degree</td>\n",
              "      <td>Other</td>\n",
              "      <td>5-10 years</td>\n",
              "      <td>Python,R</td>\n",
              "      <td>Python</td>\n",
              "      <td>Vim / Emacs</td>\n",
              "      <td>Colab Notebooks</td>\n",
              "      <td>A laptop</td>\n",
              "      <td>Google Cloud TPUs</td>\n",
              "      <td>2-5 times</td>\n",
              "      <td>Matplotlib , Seaborn , Ggplot / ggplot2 , Shi...</td>\n",
              "      <td>5-10 years</td>\n",
              "      <td>Scikit-learn ,  TensorFlow , Caret</td>\n",
              "      <td>Linear or Logistic Regression,Decision Trees o...</td>\n",
              "      <td>General purpose image/video tools (PIL, cv2, s...</td>\n",
              "      <td>Word embeddings/vectors (GLoVe, fastText, word...</td>\n",
              "      <td>Manufacturing/Fabrication</td>\n",
              "      <td>50-249 employees</td>\n",
              "      <td>3-4</td>\n",
              "      <td>No (we do not use ML methods)</td>\n",
              "      <td>None of these activities are an important part...</td>\n",
              "      <td>25,000-29,999</td>\n",
              "      <td>$100-$999</td>\n",
              "      <td>Google Cloud Platform (GCP)</td>\n",
              "      <td></td>\n",
              "      <td>Google Cloud Compute Engine</td>\n",
              "      <td>Google Cloud Storage (GCS)</td>\n",
              "      <td>No / None</td>\n",
              "      <td>PostgreSQL</td>\n",
              "      <td></td>\n",
              "      <td>None</td>\n",
              "      <td></td>\n",
              "      <td>No / None</td>\n",
              "      <td></td>\n",
              "      <td>No / None</td>\n",
              "      <td>GitHub , Kaggle</td>\n",
              "      <td>Coursera,edX,Kaggle Learn Courses,DataCamp,Uda...</td>\n",
              "      <td>Local development environments (RStudio, Jupyt...</td>\n",
              "      <td>Email newsletters (Data Elixir, O'Reilly Data ...</td>\n",
              "    </tr>\n",
              "    <tr>\n",
              "      <th>2</th>\n",
              "      <td>784</td>\n",
              "      <td>50-54</td>\n",
              "      <td>Man</td>\n",
              "      <td>Indonesia</td>\n",
              "      <td>Master’s degree</td>\n",
              "      <td>Program/Project Manager</td>\n",
              "      <td>20+ years</td>\n",
              "      <td>SQL,C,C++,Java</td>\n",
              "      <td>Python</td>\n",
              "      <td>Notepad++  , Jupyter Notebook</td>\n",
              "      <td>Kaggle Notebooks,Colab Notebooks</td>\n",
              "      <td>A cloud computing platform (AWS, Azure, GCP, h...</td>\n",
              "      <td>None</td>\n",
              "      <td>Never</td>\n",
              "      <td>Matplotlib</td>\n",
              "      <td>Under 1 year</td>\n",
              "      <td>Scikit-learn</td>\n",
              "      <td>Linear or Logistic Regression,Decision Trees o...</td>\n",
              "      <td></td>\n",
              "      <td></td>\n",
              "      <td>Manufacturing/Fabrication</td>\n",
              "      <td>1000-9,999 employees</td>\n",
              "      <td>1-2</td>\n",
              "      <td>We are exploring ML methods (and may one day p...</td>\n",
              "      <td>Build and/or run the data infrastructure that ...</td>\n",
              "      <td>60,000-69,999</td>\n",
              "      <td>$0 ($USD)</td>\n",
              "      <td>Google Cloud Platform (GCP) , Oracle Cloud</td>\n",
              "      <td></td>\n",
              "      <td>Google Cloud Compute Engine</td>\n",
              "      <td></td>\n",
              "      <td>None</td>\n",
              "      <td>MySQL ,SQLite ,Oracle Database ,Google Cloud SQL</td>\n",
              "      <td></td>\n",
              "      <td>Google Data Studio,Qlik</td>\n",
              "      <td></td>\n",
              "      <td>Automated model selection (e.g. auto-sklearn, ...</td>\n",
              "      <td>Google Cloud AutoML</td>\n",
              "      <td>None</td>\n",
              "      <td></td>\n",
              "      <td>Kaggle Learn Courses,Cloud-certification progr...</td>\n",
              "      <td>Advanced statistical software (SPSS, SAS, etc.)</td>\n",
              "      <td>Journal Publications (peer-reviewed journals, ...</td>\n",
              "    </tr>\n",
              "    <tr>\n",
              "      <th>3</th>\n",
              "      <td>924</td>\n",
              "      <td>22-24</td>\n",
              "      <td>Man</td>\n",
              "      <td>Pakistan</td>\n",
              "      <td>Master’s degree</td>\n",
              "      <td>Software Engineer</td>\n",
              "      <td>1-3 years</td>\n",
              "      <td>Python,C++,Java</td>\n",
              "      <td>Python</td>\n",
              "      <td>PyCharm , Jupyter Notebook,Other</td>\n",
              "      <td>Kaggle Notebooks</td>\n",
              "      <td>A laptop</td>\n",
              "      <td>Other</td>\n",
              "      <td>Never</td>\n",
              "      <td>Matplotlib</td>\n",
              "      <td>I do not use machine learning methods</td>\n",
              "      <td></td>\n",
              "      <td></td>\n",
              "      <td></td>\n",
              "      <td></td>\n",
              "      <td>Academics/Education</td>\n",
              "      <td>1000-9,999 employees</td>\n",
              "      <td>0</td>\n",
              "      <td>I do not know</td>\n",
              "      <td>None of these activities are an important part...</td>\n",
              "      <td>$0-999</td>\n",
              "      <td>$0 ($USD)</td>\n",
              "      <td>None, Amazon Web Services (AWS) , Google Cloud...</td>\n",
              "      <td></td>\n",
              "      <td>Microsoft Azure Virtual Machines , Google Clo...</td>\n",
              "      <td></td>\n",
              "      <td>DataRobot, Azure Machine Learning Studio , Go...</td>\n",
              "      <td>MySQL ,MongoDB ,MySQL ,PostgreSQL ,MongoDB</td>\n",
              "      <td>MySQL</td>\n",
              "      <td>None,Microsoft Power BI,Tableau</td>\n",
              "      <td></td>\n",
              "      <td>No / None,Automated model selection (e.g. auto...</td>\n",
              "      <td>DataRobot AutoML</td>\n",
              "      <td>No / None, TensorBoard</td>\n",
              "      <td>I do not share my work publicly</td>\n",
              "      <td>DataCamp</td>\n",
              "      <td>Basic statistical software (Microsoft Excel, G...</td>\n",
              "      <td>Kaggle (notebooks, forums, etc),YouTube (Kaggl...</td>\n",
              "    </tr>\n",
              "    <tr>\n",
              "      <th>4</th>\n",
              "      <td>575</td>\n",
              "      <td>45-49</td>\n",
              "      <td>Man</td>\n",
              "      <td>Mexico</td>\n",
              "      <td>Doctoral degree</td>\n",
              "      <td>Research Scientist</td>\n",
              "      <td>20+ years</td>\n",
              "      <td>Python</td>\n",
              "      <td>Python</td>\n",
              "      <td>Spyder  , Jupyter Notebook</td>\n",
              "      <td>Colab Notebooks</td>\n",
              "      <td>A cloud computing platform (AWS, Azure, GCP, h...</td>\n",
              "      <td>NVIDIA GPUs</td>\n",
              "      <td>More than 25 times</td>\n",
              "      <td>Matplotlib</td>\n",
              "      <td>5-10 years</td>\n",
              "      <td>Scikit-learn ,  TensorFlow , Keras</td>\n",
              "      <td>Dense Neural Networks (MLPs, etc),Convolutiona...</td>\n",
              "      <td>General purpose image/video tools (PIL, cv2, s...</td>\n",
              "      <td>None</td>\n",
              "      <td>Academics/Education</td>\n",
              "      <td>1000-9,999 employees</td>\n",
              "      <td>0</td>\n",
              "      <td>I do not know</td>\n",
              "      <td>Do research that advances the state of the art...</td>\n",
              "      <td>30,000-39,999</td>\n",
              "      <td>$0 ($USD)</td>\n",
              "      <td>Amazon Web Services (AWS) , Microsoft Azure</td>\n",
              "      <td></td>\n",
              "      <td>Microsoft Azure Virtual Machines , Google Clo...</td>\n",
              "      <td></td>\n",
              "      <td>None</td>\n",
              "      <td>None</td>\n",
              "      <td></td>\n",
              "      <td>None</td>\n",
              "      <td></td>\n",
              "      <td>None</td>\n",
              "      <td></td>\n",
              "      <td>None</td>\n",
              "      <td></td>\n",
              "      <td>Coursera,edX</td>\n",
              "      <td>Local development environments (RStudio, Jupyt...</td>\n",
              "      <td>YouTube (Kaggle YouTube, Cloud AI Adventures, ...</td>\n",
              "    </tr>\n",
              "    <tr>\n",
              "      <th>5</th>\n",
              "      <td>781</td>\n",
              "      <td>45-49</td>\n",
              "      <td>Man</td>\n",
              "      <td>India</td>\n",
              "      <td>Doctoral degree</td>\n",
              "      <td>Other</td>\n",
              "      <td>&lt; 1 years</td>\n",
              "      <td>Python,C,MATLAB</td>\n",
              "      <td>Python</td>\n",
              "      <td>Spyder  , MATLAB , Jupyter Notebook</td>\n",
              "      <td>Google Cloud Datalab</td>\n",
              "      <td>A cloud computing platform (AWS, Azure, GCP, h...</td>\n",
              "      <td>None</td>\n",
              "      <td>Never</td>\n",
              "      <td>Matplotlib , Seaborn , Ggplot / ggplot2</td>\n",
              "      <td>10-20 years</td>\n",
              "      <td>Scikit-learn , PyTorch , LightGBM</td>\n",
              "      <td>Linear or Logistic Regression,Decision Trees o...</td>\n",
              "      <td></td>\n",
              "      <td></td>\n",
              "      <td>Academics/Education</td>\n",
              "      <td>50-249 employees</td>\n",
              "      <td>5-9</td>\n",
              "      <td>We use ML methods for generating insights (but...</td>\n",
              "      <td>Analyze and understand data to influence produ...</td>\n",
              "      <td>30,000-39,999</td>\n",
              "      <td>$1000-$9,999</td>\n",
              "      <td>Microsoft Azure</td>\n",
              "      <td></td>\n",
              "      <td>Microsoft Azure Virtual Machines</td>\n",
              "      <td>Microsoft Azure Data Lake Storage</td>\n",
              "      <td>Azure Machine Learning Studio</td>\n",
              "      <td>None</td>\n",
              "      <td></td>\n",
              "      <td>Microsoft Power BI</td>\n",
              "      <td></td>\n",
              "      <td>No / None</td>\n",
              "      <td></td>\n",
              "      <td>Weights &amp; Biases</td>\n",
              "      <td>I do not share my work publicly</td>\n",
              "      <td>Kaggle Learn Courses,Udemy</td>\n",
              "      <td>Local development environments (RStudio, Jupyt...</td>\n",
              "      <td>Journal Publications (peer-reviewed journals, ...</td>\n",
              "    </tr>\n",
              "  </tbody>\n",
              "</table>\n",
              "</div>"
            ],
            "text/plain": [
              "  Time from Start to Finish (seconds)  ...                                                Q42\n",
              "1                                 910  ...  Email newsletters (Data Elixir, O'Reilly Data ...\n",
              "2                                 784  ...  Journal Publications (peer-reviewed journals, ...\n",
              "3                                 924  ...  Kaggle (notebooks, forums, etc),YouTube (Kaggl...\n",
              "4                                 575  ...  YouTube (Kaggle YouTube, Cloud AI Adventures, ...\n",
              "5                                 781  ...  Journal Publications (peer-reviewed journals, ...\n",
              "\n",
              "[5 rows x 43 columns]"
            ]
          },
          "metadata": {},
          "execution_count": 8
        }
      ]
    }
  ]
}