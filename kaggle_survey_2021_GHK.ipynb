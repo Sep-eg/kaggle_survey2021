{
  "nbformat": 4,
  "nbformat_minor": 0,
  "metadata": {
    "colab": {
      "name": "kaggle_survey_2021_GHK.ipynb",
      "private_outputs": true,
      "provenance": [],
      "toc_visible": true,
      "authorship_tag": "ABX9TyNv6FrkP3R3y/1Lsz/amVCk",
      "include_colab_link": true
    },
    "kernelspec": {
      "name": "python3",
      "display_name": "Python 3"
    },
    "language_info": {
      "name": "python"
    }
  },
  "cells": [
    {
      "cell_type": "markdown",
      "metadata": {
        "id": "view-in-github",
        "colab_type": "text"
      },
      "source": [
        "<a href=\"https://colab.research.google.com/github/Sep-eg/kaggle_survey2021/blob/main/kaggle_survey_2021_GHK.ipynb\" target=\"_parent\"><img src=\"https://colab.research.google.com/assets/colab-badge.svg\" alt=\"Open In Colab\"/></a>"
      ]
    },
    {
      "cell_type": "code",
      "metadata": {
        "id": "kKtwnmAlvCIZ"
      },
      "source": [
        "!mkdir ~/.kaggle # api키 보관용 폴더 생성\n",
        "!cp kaggle.json ~/.kaggle # api키 파일을 보관용 폴더에 복사\n",
        "!kaggle competitions download -c kaggle-survey-2021 # kaggle survey 2021 데이터 다운로드"
      ],
      "execution_count": null,
      "outputs": []
    },
    {
      "cell_type": "code",
      "metadata": {
        "id": "Sq9ghaxovGSv"
      },
      "source": [
        "import pandas as pd\n",
        "import seaborn as sns\n",
        "import matplotlib.pyplot as plt\n",
        "import warnings\n",
        "from pywaffle import Waffle\n",
        "warnings.filterwarnings('ignore')\n",
        "\n",
        "plt.style.use('seaborn') # 생서할 그래프의 스타일시트를 변경 ggplot, grayscale, seaborn 등 다양한 파라미터 사용가능\n",
        "sns.set(font_scale=2.5) # 앞으로 생성할 모든 그래프의 폰트 사이즈를 지정"
      ],
      "execution_count": null,
      "outputs": []
    },
    {
      "cell_type": "code",
      "metadata": {
        "id": "CuTzzMSovQcQ"
      },
      "source": [
        "response = pd.read_csv(\"/content/kaggle_survey_2021_responses.csv.zip\")"
      ],
      "execution_count": null,
      "outputs": []
    },
    {
      "cell_type": "code",
      "metadata": {
        "id": "08wIcFc2vReL"
      },
      "source": [
        "response = response.loc[:][1:] # 질문을 담고있는 첫번째 행 제거\n",
        "response.reset_index(drop=True, inplace=True) # 인덱스 초기화"
      ],
      "execution_count": null,
      "outputs": []
    },
    {
      "cell_type": "code",
      "metadata": {
        "id": "owjkrQvgMvC6"
      },
      "source": [
        "def total_answer(res, column):\n",
        "    \"\"\"\n",
        "    컬럼별로 나누어진 응답을 통합하는 함수\n",
        "    column : 컬럼명\n",
        "    \"\"\"\n",
        "\n",
        "    # 해당 컬럼명이 들어간 컬럼 추출\n",
        "    col = res.columns[res.columns.str.contains(column)]\n",
        "    tmp = res[col]\n",
        "    # 결측치 ''로 채우기\n",
        "    tmp = tmp.fillna('')\n",
        "    # 컬럼별 응답 콤마(,)로 더하기\n",
        "    total = tmp.apply(';'.join, axis=1)\n",
        "\n",
        "    # 정규표현식으로 필요없는 콤마(,) 처리\n",
        "    import re\n",
        "    ls = []\n",
        "    for i in total:\n",
        "        ls.append(re.sub(';{2,}', ';', i).strip(';')) ## 콤마가 2개 이상인 경우 하나로 바꾸기\n",
        "\n",
        "    # 나눠진 응답 삭제\n",
        "    res.drop(col, axis=1, inplace=True)\n",
        "\n",
        "    # 통합 응답 추가\n",
        "    res[column] = ls"
      ],
      "execution_count": null,
      "outputs": []
    },
    {
      "cell_type": "code",
      "metadata": {
        "id": "5DMLeLl9yHOP"
      },
      "source": [
        "def job_group(res):\n",
        "    res['Q5'] = res['Q5'].replace(['Business Analyst', 'Data Analyst',\n",
        "                                   'Product Manager', 'Program/Project Manager',\n",
        "                                   'Statistician'],'DA')\n",
        "    \n",
        "    res['Q5'] = res['Q5'].replace(['Data Engineer', 'DBA/Database Engineer',\n",
        "                                   'Machine Learning Engineer', 'Software Engineer',\n",
        "                                   'Developer Relations/Advocacy'], 'DE')\n",
        "    \n",
        "    res['Q5'] = res['Q5'].replace(['Data Scientist', 'Research Scientist'], 'DS')\n",
        "    \n",
        "    res['Q5'] = res['Q5'].replace(['Student', 'Currently not employed', 'Other'], 'OTHER')"
      ],
      "execution_count": null,
      "outputs": []
    },
    {
      "cell_type": "code",
      "metadata": {
        "id": "ODwwbMsrMhk7"
      },
      "source": [
        "# Apply total_answer() to only multiple-type questions\n",
        "\n",
        "q_list_supplementary = [27,29,30,31,32,34,36,37,38] # supplementary question list\n",
        "\n",
        "for i in range(7, 43):\n",
        "    if i in q_list_supplementary:\n",
        "        num_A = 'Q' + str(i) + '_A'\n",
        "        num_B = 'Q' + str(i) + '_B'\n",
        "        total_answer(response ,num_A)\n",
        "        total_answer(response ,num_B)\n",
        "\n",
        "    else:\n",
        "        num = 'Q'+str(i)\n",
        "        total_answer(response ,num)\n",
        "\n",
        "cond = ((response['Q27_B'] != '') | (response['Q29_B'] != '') | (response['Q30_B'] != '') | \n",
        "        (response['Q31_B'] != '') | (response['Q32_B'] != '') | (response['Q34_B'] != '') | \n",
        "        (response['Q36_B'] != '') | (response['Q37_B'] != '') | (response['Q38_B'] != ''))\n",
        "\n",
        "response['professional'] = 'Professional'\n",
        "response.loc[cond, 'professional'] = 'Non-professional' "
      ],
      "execution_count": null,
      "outputs": []
    },
    {
      "cell_type": "code",
      "metadata": {
        "id": "ujX0EUliyXWf"
      },
      "source": [
        "job_group(response)"
      ],
      "execution_count": null,
      "outputs": []
    },
    {
      "cell_type": "code",
      "metadata": {
        "id": "kZQGswA_comY"
      },
      "source": [
        "response"
      ],
      "execution_count": null,
      "outputs": []
    },
    {
      "cell_type": "markdown",
      "metadata": {
        "id": "3k73epz3uq3r"
      },
      "source": [
        "##<질문 예시>\n",
        "\n",
        "Q. 직군별 성별 비율 \n",
        "Q2 Gender Q5 JobTitle\n",
        "\n",
        "Q. 연령에 따른 성별 분포 \n",
        "Q1 Age Q5 JobTitle\n",
        "\n",
        "Q. 프로그래밍 공부 최소 어느 정도 해야 취직이 가능할까요? 직군별 프로그래밍 코드 사용기간(최저) \n",
        "Q5 JobTitle Q6 YearsToCode\n",
        "\n",
        "Q. 직군별 평균 나이 \n",
        "Q1 Age Q5 JobTitle\n",
        "\n",
        "Q. 직군별 최종학력 \n",
        "Q4 FormalEducation Q5 JobTitle\n",
        "\n",
        "Q. 직군별로 어떤 언어를 사용하시나요? \n",
        "Q5 JobTitle Q7 Language_regular\n",
        "\n",
        "Q. 직군별로 어떤 언어를 추천하시나요? \n",
        "Q5 JobTitle Q8 Language_first\n",
        "\n",
        "Q. 직군별로 평소에 사용하는 시각화 라이브러리는 무엇인가요? \n",
        "Q5 JobTitle Q14 Vis_library\n",
        "\n",
        "Q. 직군별로 사용하는 ML 알고리즘은 무엇인가요? \n",
        "Q5 JobTitle Q17 ML_algorithm\n",
        "\n",
        "Q. 직군별로 현재 종사하는 산업의 비율?은 어떠한가요? \n",
        "Q5 JobTitle Q20 JobIndustry\n",
        "\n",
        "Q. 직군별 회사 규모에 따른 연봉은 어떠한가요? \n",
        "Q5 JobTitle Q21 CompanySize 회사규모 Q25 Year_Compensation 연봉 ($USD)\n",
        "\n",
        "Q. 데이터분석 또는 머신러닝 앱을 어디에 배포하나요? \n",
        "Q5 JobTitle Q39 PublicToDeploy\n",
        "\n",
        "Q. 데이터사이언스를 배울때 어떤 플랫폼을 사용했나요? \n",
        "Q5 JobTitle Q40 PlatformToLear_DS\n",
        "\n",
        "Q. 데이터사이언스와 관련된 주제를 다루는 미디어 중 가장 선호하는 채널은 무엇인가요? \n",
        "Q5 JobTitle Q42 MediaSourceToLearn"
      ]
    },
    {
      "cell_type": "markdown",
      "metadata": {
        "id": "JIcxg-XHxyxz"
      },
      "source": [
        "### 질문 1. 직군별 성별의 비율"
      ]
    },
    {
      "cell_type": "code",
      "metadata": {
        "id": "-iJnHhkA2Zsg"
      },
      "source": [
        "job_gender = pd.crosstab(response['Q5'], response['Q2'])"
      ],
      "execution_count": null,
      "outputs": []
    },
    {
      "cell_type": "code",
      "metadata": {
        "id": "Oi2jtLjwyv2P"
      },
      "source": [
        "job_gender.plot.bar(stacked=True, figsize=(15,9));"
      ],
      "execution_count": null,
      "outputs": []
    },
    {
      "cell_type": "markdown",
      "metadata": {
        "id": "vzXvgW1I-JGC"
      },
      "source": [
        "###질문 2. 연령에 따른 성별의 분포"
      ]
    },
    {
      "cell_type": "code",
      "metadata": {
        "id": "rO3onmgC-aPX"
      },
      "source": [
        "age_gender = pd.crosstab(response['Q1'], response['Q2'])"
      ],
      "execution_count": null,
      "outputs": []
    },
    {
      "cell_type": "code",
      "metadata": {
        "id": "pBsrZb3s-iyK"
      },
      "source": [
        "age_gender.plot.bar(stacked=True, figsize=(15,9));"
      ],
      "execution_count": null,
      "outputs": []
    },
    {
      "cell_type": "markdown",
      "metadata": {
        "id": "wsyh2TVc-zXv"
      },
      "source": [
        "### 질문 3. 프로그래밍 공부기간과 취직"
      ]
    },
    {
      "cell_type": "code",
      "metadata": {
        "id": "2H5RuBFA_A_A"
      },
      "source": [
        "job_study = pd.crosstab(response['Q5'], response['Q6'])"
      ],
      "execution_count": null,
      "outputs": []
    },
    {
      "cell_type": "code",
      "metadata": {
        "id": "N9ifZTHz_GAB"
      },
      "source": [
        "job_study.plot.bar(stacked=True, figsize=(15,9));"
      ],
      "execution_count": null,
      "outputs": []
    },
    {
      "cell_type": "markdown",
      "metadata": {
        "id": "wQbEHXxG_cok"
      },
      "source": [
        "이부분은 직군별 비교로 살펴보는것도 재밌지만, 실제로 프로와 non프로를 비교해 볼 수 있을 것 같습니다."
      ]
    },
    {
      "cell_type": "code",
      "metadata": {
        "id": "5Tn5s2XV_zlw"
      },
      "source": [
        "pro_study = pd.crosstab(response['Q6'], response['professional'])"
      ],
      "execution_count": null,
      "outputs": []
    },
    {
      "cell_type": "code",
      "metadata": {
        "id": "IRIhvhf2ADsm"
      },
      "source": [
        "pro_study.plot.bar(stacked=True, figsize=(15,9));"
      ],
      "execution_count": null,
      "outputs": []
    },
    {
      "cell_type": "markdown",
      "metadata": {
        "id": "LgDkn5qkARM3"
      },
      "source": [
        "확실히 코드를 사용한 기간이 길수록 프로의 비율이 커지는것으로 보입니다. 이를 조금 바꿔서 직군별로 프로들은 어느정도 기간동안 코드를 사용해 왔는지 살펴보겠습니다."
      ]
    },
    {
      "cell_type": "code",
      "metadata": {
        "id": "EV3u9JmdAgk7"
      },
      "source": [
        "pro_job_study = pd.crosstab(response[response['professional'] == 'Professional']['Q5'],\n",
        "                            response[response['professional'] == 'Professional']['Q6'])"
      ],
      "execution_count": null,
      "outputs": []
    },
    {
      "cell_type": "code",
      "metadata": {
        "id": "L2v4fhwkA0Us"
      },
      "source": [
        "pro_job_study.plot.bar(stacked=True, figsize=(15,9));"
      ],
      "execution_count": null,
      "outputs": []
    },
    {
      "cell_type": "markdown",
      "metadata": {
        "id": "bp2aRhEbBJJm"
      },
      "source": [
        "프로들의 데이터만 남겨서 살펴보았을때 DS, DE직군에 비해 DA직군이 코드를 1년미만으로 사용한 사람의 비율이 조금 큰 것을 확인할 수 있습니다."
      ]
    },
    {
      "cell_type": "markdown",
      "metadata": {
        "id": "gm_KDJLqCMQm"
      },
      "source": [
        "###질문 4. 직군별 나이 분포"
      ]
    },
    {
      "cell_type": "code",
      "metadata": {
        "id": "MFHyA4e4CQeI"
      },
      "source": [
        "job_age = pd.crosstab(response['Q1'], response['Q5'])"
      ],
      "execution_count": null,
      "outputs": []
    },
    {
      "cell_type": "code",
      "metadata": {
        "id": "vKqAwF4gC1Pr"
      },
      "source": [
        "job_age"
      ],
      "execution_count": null,
      "outputs": []
    },
    {
      "cell_type": "code",
      "metadata": {
        "id": "GuuKz-t6Cewo"
      },
      "source": [
        "plt.figure(figsize=(18,9))\n",
        "sns.lineplot(data = job_age)"
      ],
      "execution_count": null,
      "outputs": []
    },
    {
      "cell_type": "markdown",
      "metadata": {
        "id": "ryeYzQ79D3g4"
      },
      "source": [
        "학생 그룹이 포함된 Other을 제외한다면 대체로 모든 직군에서 유사한 분포를 그리고 있으나, DE그룹은 조금 더 연령대가 낮은것으로 보입니다. 유의미한 차이일지는 모르겠네요."
      ]
    },
    {
      "cell_type": "markdown",
      "metadata": {
        "id": "Y73PL_qJEyFt"
      },
      "source": [
        "###질문 5. 직군별 최종학력"
      ]
    },
    {
      "cell_type": "code",
      "metadata": {
        "id": "BTGDR9nHE5T9"
      },
      "source": [
        "job_edu = pd.crosstab(response['Q4'], response['Q5'])"
      ],
      "execution_count": null,
      "outputs": []
    },
    {
      "cell_type": "code",
      "metadata": {
        "id": "SG30edKyFENG"
      },
      "source": [
        "plt.figure(figsize=(18,9))\n",
        "g = sns.lineplot(data = job_edu)\n",
        "g.set_xticklabels(['Bd', 'Dd', 'NotAsw', 'Md','HS','PD','WOBd']);"
      ],
      "execution_count": null,
      "outputs": []
    },
    {
      "cell_type": "markdown",
      "metadata": {
        "id": "6B9O2uXXJH9D"
      },
      "source": [
        "DE, DA직군은 학, 석사학위자의 비중이 높은반면, DS직군은 석사학위를 보유한 인원의 비율은 유사하지만, 학사학위자의 비율이 낮아지고 박사학위자가 크게 많아진 것을 볼 수 있습니다."
      ]
    },
    {
      "cell_type": "markdown",
      "metadata": {
        "id": "pT_wXcs1JqVS"
      },
      "source": [
        "###질문 6. 직군별 사용 언어"
      ]
    },
    {
      "cell_type": "code",
      "metadata": {
        "id": "jZ6IbxduKtyP"
      },
      "source": [
        "language_list = ['Python', 'R', 'SQL', 'C', 'C++', 'Java',\n",
        "                 'Javascript', 'Julia', 'Swift', 'Bash',\n",
        "                 'MATLAB', 'None', 'Other']"
      ],
      "execution_count": null,
      "outputs": []
    },
    {
      "cell_type": "code",
      "metadata": {
        "id": "ZkOp-gxRLoCd"
      },
      "source": [
        "language_dict = {job : {lang : 0 for lang in language_list} for job in response['Q5'].unique()}\n",
        "\n",
        "for row in response.iterrows():\n",
        "    if len(row[1]['Q7']) > 0:\n",
        "        for lang in row[1]['Q7'].split(';'):\n",
        "            language_dict[row[1]['Q5']][lang] += 1"
      ],
      "execution_count": null,
      "outputs": []
    },
    {
      "cell_type": "code",
      "metadata": {
        "id": "151Jo_jsRfNK"
      },
      "source": [
        "pd.DataFrame(language_dict).plot.bar(figsize=(15,6));"
      ],
      "execution_count": null,
      "outputs": []
    },
    {
      "cell_type": "markdown",
      "metadata": {
        "id": "OGQjQw4jR0iQ"
      },
      "source": [
        "어느정도 차이가 눈에 보이기는 하지만 Other의 비율이 커 쉽게 알아보기가 힘듭니다. Other을 제외한 DE,DS,DA직군만 보겠습니다. "
      ]
    },
    {
      "cell_type": "code",
      "metadata": {
        "id": "ddJi99gLNRnX"
      },
      "source": [
        "pd.DataFrame(language_dict).loc[:, ['DA','DE','DS']].plot.bar(stacked=True)"
      ],
      "execution_count": null,
      "outputs": []
    },
    {
      "cell_type": "markdown",
      "metadata": {
        "id": "2MnX5GrcSJ7x"
      },
      "source": [
        "파이썬은 가장 많이 사용되는 언어이며, 세 직군 모두 사용 비율이 유사해보입니다. 하지만 통계에 특화된 것으로 알려진 R같은 경우 DE직군에서는 거의 사용되지 않고, C, C++, Java 등 개발에 특화된 것으로 알려진 언어는 DA, DS직군에 비해 DE직군의 사용률이 높은것으로 보입니다."
      ]
    },
    {
      "cell_type": "markdown",
      "metadata": {
        "id": "6wBpK9QRSuzM"
      },
      "source": [
        "### 질문 7. 직군별 추천 언어"
      ]
    },
    {
      "cell_type": "code",
      "metadata": {
        "id": "5rK2nFnXS25w"
      },
      "source": [
        "re_language_dict = {job : {lang : 0 for lang in language_list} for job in response['Q5'].unique()}\n",
        "\n",
        "for row in response.iterrows():\n",
        "    if len(row[1]['Q8']) > 0:\n",
        "        for lang in row[1]['Q8'].split(';'):\n",
        "            re_language_dict[row[1]['Q5']][lang] += 1"
      ],
      "execution_count": null,
      "outputs": []
    },
    {
      "cell_type": "code",
      "metadata": {
        "id": "3ihz2wLzS-6m"
      },
      "source": [
        "pd.DataFrame(re_language_dict).plot.bar(stacked=True, figsize=(15,6));"
      ],
      "execution_count": null,
      "outputs": []
    },
    {
      "cell_type": "markdown",
      "metadata": {
        "id": "wmyMoA_yTFrv"
      },
      "source": [
        "거의 대부분의 추천언어가 Python에 몰려있는 것을 볼 수있습니다. 다른 언어들과 차이가 커 확실히 알아보기 어렵지만, 사용언어와 마찬가지로 Other을 제외한 뒤 살펴보겠습니다."
      ]
    },
    {
      "cell_type": "code",
      "metadata": {
        "id": "eJ2Nr6Q-TMeX"
      },
      "source": [
        "f, ax = plt.subplots(1,2, figsize=(20,9))\n",
        "pd.DataFrame(language_dict).loc[:, ['DA','DE','DS']].plot.bar(stacked=True, ax=ax[0])\n",
        "ax[0].set_title('Use language')\n",
        "pd.DataFrame(re_language_dict).loc[:, ['DA','DE','DS']].plot.bar(stacked=True, ax=ax[1])\n",
        "ax[1].set_title('Recommend language')\n",
        "plt.show()"
      ],
      "execution_count": null,
      "outputs": []
    },
    {
      "cell_type": "markdown",
      "metadata": {
        "id": "IxZjjFk4UvDR"
      },
      "source": [
        "실제 사용언어와 추천언어의 비교를 위해 두 그래프를 함께 표시하였습니다. Python의 추천비중이 압도적으로 많지만, R, SQL과 같이 함께 추천받은 언어들은 실제 사용하는 언어와 유사한 분포를 나타내는 것으로 보입니다."
      ]
    },
    {
      "cell_type": "markdown",
      "metadata": {
        "id": "KMs_pLiPVU7D"
      },
      "source": [
        "### 질문 8. 직군별 시각화 라이브러리"
      ]
    },
    {
      "cell_type": "code",
      "metadata": {
        "id": "LL4j6QkNVjpf"
      },
      "source": [
        "visual_list = ['Matplotlib', 'Seaborn', 'Plotly / Plotly Express',\n",
        "               'Ggplot / ggplot2', 'Shiny', 'D3 js', 'Altair', 'Bokeh',\n",
        "               'Geoplotlib', 'Leaflet / Folium', 'None', 'Other']"
      ],
      "execution_count": null,
      "outputs": []
    },
    {
      "cell_type": "code",
      "metadata": {
        "id": "G847fgnyVTvb"
      },
      "source": [
        "visual_dict = {job : {visual : 0 for visual in visual_list} for job in response['Q5'].unique()}\n",
        "\n",
        "for row in response.iterrows():\n",
        "    if len(row[1]['Q14']) > 0:\n",
        "        for visual in row[1]['Q14'].split(';'):\n",
        "            visual_dict[row[1]['Q5']][visual.strip()] += 1"
      ],
      "execution_count": null,
      "outputs": []
    },
    {
      "cell_type": "code",
      "metadata": {
        "id": "10i9ApkcYGD5"
      },
      "source": [
        "pd.DataFrame(visual_dict).plot.bar(figsize=(15,6));"
      ],
      "execution_count": null,
      "outputs": []
    },
    {
      "cell_type": "markdown",
      "metadata": {
        "id": "e4DCbSwjZAOv"
      },
      "source": [
        "### 질문 9. 직군별로 사용하는 ML 알고리즘"
      ]
    },
    {
      "cell_type": "code",
      "metadata": {
        "id": "N4FcZs82ZJh_"
      },
      "source": [
        "ML_list = ['Linear or Logistic Regression', 'Decision Trees or Random Forests',\n",
        "           'Gradient Boosting Machines (xgboost, lightgbm, etc)', 'Bayesian Approaches',\n",
        "           'Evolutionary Approaches', 'Dense Neural Networks (MLPs, etc)',\n",
        "           'Convolutional Neural Networks', 'Generative Adversarial Networks',\n",
        "           'Recurrent Neural Networks', 'Transformer Networks (BERT, gpt-3, etc)',\n",
        "           'None', 'Other']"
      ],
      "execution_count": null,
      "outputs": []
    },
    {
      "cell_type": "code",
      "metadata": {
        "id": "0-BjZ3TZZHpp"
      },
      "source": [
        "ML_dict = {job : {ML : 0 for ML in ML_list} for job in response['Q5'].unique()}\n",
        "\n",
        "for row in response.iterrows():\n",
        "    if len(row[1]['Q17']) > 0:\n",
        "        for ML in row[1]['Q17'].split(';'):\n",
        "            ML_dict[row[1]['Q5']][ML] += 1"
      ],
      "execution_count": null,
      "outputs": []
    },
    {
      "cell_type": "code",
      "metadata": {
        "id": "R8y2HCaSdN6a"
      },
      "source": [
        "g = pd.DataFrame(ML_dict).plot.bar(figsize=(15,6));\n",
        "g.set_xticklabels(['Linear or LR', 'DT or RF', 'GBM', 'Bayesian',\n",
        "                   'Evolutionay', 'DNN', 'CNN', 'GAN', 'RNN', 'Transformer',\n",
        "                   'None', 'Other']);"
      ],
      "execution_count": null,
      "outputs": []
    },
    {
      "cell_type": "markdown",
      "metadata": {
        "id": "_h8lGLybepy9"
      },
      "source": [
        "DS직군이 확실히 다양한 종류의 ML알고리즘을 사용하고 있음을 확인할 수 있고, DA직군은 DE 혹은 DS직군에 비해 딥러닝 분야의 알고리즘의 활용도가 낮은것을 볼 수 있습니다."
      ]
    },
    {
      "cell_type": "markdown",
      "metadata": {
        "id": "gcvk5aSOfHhO"
      },
      "source": [
        "### 질문 10. 직군별 종사 산업"
      ]
    },
    {
      "cell_type": "code",
      "metadata": {
        "id": "_pKo4JkrfORj"
      },
      "source": [
        "job_industry = pd.crosstab(response['Q5'], response['Q20'])"
      ],
      "execution_count": null,
      "outputs": []
    },
    {
      "cell_type": "code",
      "metadata": {
        "id": "uHciQwbehYtf"
      },
      "source": [
        "g = job_industry.T.plot.bar(figsize=(18,9))\n",
        "g.set_xticklabels(['Edu','Finance','Broadcating','Tech','Energy',\n",
        "                   'Gover/PS','Enter','Insurance','Manufacturing',\n",
        "                   'Marketing','Medical','Security','service',\n",
        "                   'OnlineBiz','OnlineServ','Other','Retail',\n",
        "                   'Transport'])\n",
        "plt.show()"
      ],
      "execution_count": null,
      "outputs": []
    },
    {
      "cell_type": "markdown",
      "metadata": {
        "id": "HtvhFQyqhYe0"
      },
      "source": [
        "Other직군에 학생이 포함되어있기 때문에 식별이 힘들정도로 Edu의 비율이 높습니다. Other직군을 제외하겠습니다."
      ]
    },
    {
      "cell_type": "code",
      "metadata": {
        "id": "GKQTsVqrfjUa"
      },
      "source": [
        "g = job_industry.T.loc[:,['DA','DE','DS']].plot.bar(figsize=(18,9))\n",
        "g.set_xticklabels(['Edu','Finance','Broadcating','Tech','Energy',\n",
        "                   'Gover/PS','Enter','Insurance','Manufacturing',\n",
        "                   'Marketing','Medical','Security','service',\n",
        "                   'OnlineBiz','OnlineServ','Other','Retail',\n",
        "                   'Transport'])\n",
        "plt.show()"
      ],
      "execution_count": null,
      "outputs": []
    },
    {
      "cell_type": "markdown",
      "metadata": {
        "id": "0T11GCGghq-4"
      },
      "source": [
        "각 직군별로 종사 산업은 대체로 비슷한 수준의 규모를 보이지만, DS같은경우 Accounting/Finance, DE는 Energy/Mining 분야에 특히 많이 종사하고 있는것으로 나타났습니다."
      ]
    }
  ]
}