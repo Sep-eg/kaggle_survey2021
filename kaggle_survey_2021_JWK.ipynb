{
  "nbformat": 4,
  "nbformat_minor": 0,
  "metadata": {
    "colab": {
      "name": "kaggle_survey_2021_combine_col.ipynb",
      "private_outputs": true,
      "provenance": [],
      "collapsed_sections": [],
      "include_colab_link": true
    },
    "kernelspec": {
      "name": "python3",
      "display_name": "Python 3"
    },
    "language_info": {
      "name": "python"
    }
  },
  "cells": [
    {
      "cell_type": "markdown",
      "metadata": {
        "id": "view-in-github",
        "colab_type": "text"
      },
      "source": [
        "<a href=\"https://colab.research.google.com/github/Jinwooxxi/kaggle_survey2021/blob/main/kaggle_survey_2021_JWK.ipynb\" target=\"_parent\"><img src=\"https://colab.research.google.com/assets/colab-badge.svg\" alt=\"Open In Colab\"/></a>"
      ]
    },
    {
      "cell_type": "code",
      "metadata": {
        "id": "CTaZwa9TEMYf"
      },
      "source": [
        "!pip install kaggle\n",
        "from google.colab import files\n",
        "files.upload()"
      ],
      "execution_count": null,
      "outputs": []
    },
    {
      "cell_type": "code",
      "metadata": {
        "id": "cIqxusbGEQfz"
      },
      "source": [
        "!mkdir -p ~/.kaggle\n",
        "!mv kaggle.json ~/.kaggle/\n",
        "!chmod 600 ~/.kaggle/kaggle.json"
      ],
      "execution_count": null,
      "outputs": []
    },
    {
      "cell_type": "code",
      "metadata": {
        "id": "NIbascVLEQZY"
      },
      "source": [
        "!kaggle competitions download -c kaggle-survey-2021\n",
        "!unzip kaggle_survey_2021_responses.csv.zip"
      ],
      "execution_count": null,
      "outputs": []
    },
    {
      "cell_type": "code",
      "metadata": {
        "id": "UaxC9KRQiS6m"
      },
      "source": [
        "# !pip install --upgrade --user matplotlib"
      ],
      "execution_count": null,
      "outputs": []
    },
    {
      "cell_type": "code",
      "metadata": {
        "id": "CLCV8mD5EasY"
      },
      "source": [
        "import pandas as pd\n",
        "import numpy as np\n",
        "import warnings\n",
        "warnings.filterwarnings('ignore')\n",
        "import itertools\n",
        "import seaborn as sns\n",
        "import matplotlib.pyplot as plt\n",
        "import matplotlib as mpl\n",
        "mpl.rcParams['axes.unicode_minus'] = False\n",
        "from IPython.display import set_matplotlib_formats\n",
        "set_matplotlib_formats(\"retina\")"
      ],
      "execution_count": null,
      "outputs": []
    },
    {
      "cell_type": "code",
      "metadata": {
        "id": "KhxHoDPysErP"
      },
      "source": [
        "response = pd.read_csv('kaggle_survey_2021_responses.csv')\n",
        "response"
      ],
      "execution_count": null,
      "outputs": []
    },
    {
      "cell_type": "code",
      "metadata": {
        "id": "bk-IMwmhrs7K"
      },
      "source": [
        "response.drop(index=0, inplace=True) # 첫째 행 삭제, column title은 추후 수정 예정\n",
        "response.index = range(len(response)) # index 재조정\n",
        "response = response.fillna('') # NaN → 빈값으로 변경\n",
        "print(response.shape)\n",
        "response.head()"
      ],
      "execution_count": null,
      "outputs": []
    },
    {
      "cell_type": "code",
      "metadata": {
        "id": "Lp69mC_sErED"
      },
      "source": [
        "def total_answer(column):\n",
        "  # 해당 컬럼명이 들어간 컬럼 추출\n",
        "  col = response.columns[response.columns.str.contains(column)]\n",
        "  tmp = response[col]\n",
        "\n",
        "  # 컬럼별 응답 join\n",
        "  total = tmp.apply(','.join, axis=1)\n",
        "\n",
        "  # 정규표현식으로 필요없는 콤마 삭제\n",
        "  import re\n",
        "  ls = []\n",
        "  for i in total:\n",
        "    ls.append(re.sub(',{2,}', ',', i).strip(','))\n",
        "\n",
        "  # 나눠진 응답 삭제\n",
        "  response.drop(col, axis=1, inplace=True)\n",
        "  # 통합 응답 추가\n",
        "  response[column] = ls"
      ],
      "execution_count": null,
      "outputs": []
    },
    {
      "cell_type": "code",
      "metadata": {
        "id": "KG696boGGf05"
      },
      "source": [
        "for i in range(7, 43):\n",
        "  num = 'Q'+str(i) \n",
        "  total_answer(num) "
      ],
      "execution_count": null,
      "outputs": []
    },
    {
      "cell_type": "code",
      "metadata": {
        "id": "6T_03WZ5FKAN"
      },
      "source": [
        "response"
      ],
      "execution_count": null,
      "outputs": []
    },
    {
      "cell_type": "code",
      "metadata": {
        "id": "h5rVvLLHG1_i"
      },
      "source": [
        "response.describe().T"
      ],
      "execution_count": null,
      "outputs": []
    },
    {
      "cell_type": "markdown",
      "metadata": {
        "id": "06ZWlPonJzaW"
      },
      "source": [
        "## Q5 → 직군 나누기 (DA, DS, DE, OTHER)"
      ]
    },
    {
      "cell_type": "code",
      "metadata": {
        "id": "-qo7PMNlG19J"
      },
      "source": [
        "response['Q5'] = response['Q5'].replace(['Business Analyst', 'Data Analyst', 'Product Manager', 'Program/Project Manager', 'Statistician'],'DA')\n",
        "response['Q5'] = response['Q5'].replace(['Data Engineer', 'DBA/Database Engineer', 'Machine Learning Engineer', 'Software Engineer', 'Developer Relations/Advocacy'], 'DE')\n",
        "response['Q5'] = response['Q5'].replace(['Data Scientist', 'Research Scientist'], 'DS')\n",
        "response['Q5'] = response['Q5'].replace(['Student', 'Currently not employed', 'Other'], 'OTHER')"
      ],
      "execution_count": null,
      "outputs": []
    },
    {
      "cell_type": "code",
      "metadata": {
        "id": "JD4uSRPyG160"
      },
      "source": [
        "response['Q5'].value_counts()"
      ],
      "execution_count": null,
      "outputs": []
    },
    {
      "cell_type": "markdown",
      "metadata": {
        "id": "Rfi7BMPSKbmP"
      },
      "source": [
        "* Q6 코딩, 프로그래밍 사용 연수 \n",
        "* Q7 프로그래밍 사용 언어\n",
        "* Q9 주 사용 IDE\n",
        "* Q10 주 사용 노트북\n",
        "* Q14 직군별 주 사용 시각화\n",
        "* Q15 M/L 사용 년수\n",
        "* Q20 현재 직업 군 or 최근 직업 군\n",
        "* Q21 회사 규모\n",
        "* Q25 연봉\n",
        "* Q32, 33 빅데이터 관련 사용 제품 및 최다 빈도 제품\n"
      ]
    },
    {
      "cell_type": "markdown",
      "metadata": {
        "id": "WBYLCGaeSrbW"
      },
      "source": [
        "## Q6 코딩, 프로그래밍 사용 연수"
      ]
    },
    {
      "cell_type": "code",
      "metadata": {
        "id": "ir_tQgVBG14R"
      },
      "source": [
        "plt.subplots(figsize=(20,15))\n",
        "job = response['Q5'].unique()\n",
        "length = len(job)\n",
        "col_color = {'< 1 years':'r',\n",
        "             'I have never written code':'#273c75',\n",
        "             '1-3 years':'#273c75',\n",
        "             '3-5 years':'#273c75',\n",
        "             '5-10 years':'#273c75',\n",
        "             '10-20 years':'#273c75',\n",
        "             '20+ years':'#273c75'}\n",
        "\n",
        "for i, j in itertools.zip_longest(job, range(length)):\n",
        "  plt.subplot((length/2), 2, j+1)\n",
        "  data = response[response['Q5'] == i]['Q6'].value_counts(ascending=True)\n",
        "  data.plot(kind='barh', color=pd.DataFrame(data).reset_index()['index'].replace(col_color))\n",
        "  plt.title(i, size=20)"
      ],
      "execution_count": null,
      "outputs": []
    },
    {
      "cell_type": "code",
      "metadata": {
        "id": "piU3q8TfH3cC"
      },
      "source": [
        "response['Q6'].value_counts()"
      ],
      "execution_count": null,
      "outputs": []
    },
    {
      "cell_type": "code",
      "metadata": {
        "id": "eOYI4PmQHJ9s"
      },
      "source": [
        "plt.subplots(figsize=(20,15))\n",
        "exp = response['Q6'].unique()\n",
        "length = len(exp)\n",
        "col_color = {'DA':'r',\n",
        "             'DE':'#273c75',\n",
        "             'DS':'#273c75',\n",
        "             'OTHER':'#273c75'}\n",
        "\n",
        "for i, j in itertools.zip_longest(exp, range(length)):\n",
        "  plt.subplot((length/2), 3, j+1)\n",
        "  data = response[response['Q6'] == i]['Q5'].value_counts(ascending=True)\n",
        "  data.plot(kind='barh', color=pd.DataFrame(data).reset_index()['index'].replace(col_color))\n",
        "  plt.title(i, size=20)"
      ],
      "execution_count": null,
      "outputs": []
    },
    {
      "cell_type": "markdown",
      "metadata": {
        "id": "Xn6jc7hibBHo"
      },
      "source": [
        "## Q7 프로그래밍 사용 언어\n",
        "* Python \n",
        "* R\n",
        "* SQL \n",
        "* C\n",
        "* C++\n",
        "* Java\n",
        "* Javascript \n",
        "* Julia\n",
        "* Swift\n",
        "* Bash\n",
        "* MATLAB \n",
        "* None\n",
        "* Other"
      ]
    },
    {
      "cell_type": "code",
      "metadata": {
        "id": "GNhCi4t1ibH-"
      },
      "source": [
        "response['Q7'] = response['Q7'].str.replace('C\\++', '++').str.replace('Javascript', 'JS')"
      ],
      "execution_count": null,
      "outputs": []
    },
    {
      "cell_type": "code",
      "metadata": {
        "id": "U_s2tJstbx4p"
      },
      "source": [
        "lang = ['Python', 'R', 'SQL', 'C', '\\++', 'Java', 'JS', 'Julia', 'Swift', 'Bash', 'MATLAB', 'None', 'Other']"
      ],
      "execution_count": null,
      "outputs": []
    },
    {
      "cell_type": "code",
      "metadata": {
        "id": "O33Z6U4XG1rw"
      },
      "source": [
        "plt.subplots(figsize=(20,17))\n",
        "job = response['Q5'].unique()\n",
        "length = len(job)\n",
        "\n",
        "for i, j in itertools.zip_longest(job, range(length)):\n",
        "  plt.subplot((length/2), 2, j+1)\n",
        "  data = response[response['Q5'] == i]  \n",
        "  \n",
        "  lan = []\n",
        "  cnt = []\n",
        "  for k in lang:\n",
        "    lan.append(k)\n",
        "    cnt.append(len(data[data['Q7'].str.contains(k)]))\n",
        "  \n",
        "  df = pd.DataFrame(columns=[\"language\", 'cnt'])\n",
        "  df['language'] = lan\n",
        "  df['cnt'] = cnt\n",
        "  df = df.sort_values(by='cnt', ascending=False)\n",
        "  sns.barplot(data=df, y='language', x='cnt')\n",
        "  plt.title(i, size=20)\n",
        "  plt.xlabel('')\n",
        "  plt.ylabel('')"
      ],
      "execution_count": null,
      "outputs": []
    },
    {
      "cell_type": "code",
      "metadata": {
        "id": "0Rax5yoDG1o0"
      },
      "source": [
        "plt.subplots(figsize=(20,17))\n",
        "exp = response['Q6'].unique()\n",
        "exp = np.delete(exp, 6) # 'I have never written code' 코딩경험이 없기 때문에 삭제\n",
        "length = len(exp)\n",
        "\n",
        "for i, j in itertools.zip_longest(exp, range(length)):\n",
        "  plt.subplot((length/2), 2, j+1)\n",
        "  data = response[response['Q6'] == i]  \n",
        "  \n",
        "  lan = []\n",
        "  cnt = []\n",
        "  for k in lang:\n",
        "    lan.append(k)\n",
        "    cnt.append(len(data[data['Q7'].str.contains(k)]))\n",
        "  \n",
        "  df = pd.DataFrame(columns=[\"language\", 'cnt'])\n",
        "  df['language'] = lan\n",
        "  df['cnt'] = cnt\n",
        "  df = df.sort_values(by='cnt', ascending=False)\n",
        "  sns.barplot(data=df, y='language', x='cnt')\n",
        "  plt.title(i, size=20)\n",
        "  plt.xlabel('')\n",
        "  plt.ylabel('')"
      ],
      "execution_count": null,
      "outputs": []
    },
    {
      "cell_type": "markdown",
      "metadata": {
        "id": "l0Sht9t7WnmB"
      },
      "source": [
        "## Q9 주 사용 IDE"
      ]
    },
    {
      "cell_type": "code",
      "metadata": {
        "id": "GZ8G4abpG1hP"
      },
      "source": [
        "idle = ['JupyterLab', 'RStudio', 'Visual Studio', 'VSCode', 'PyCharm', 'Spyder', 'Notepad',\n",
        "        'Sublime Text', 'Vim, Emacs, or similar', 'MATLAB', 'Jupyter Notebook', 'None', 'Other']"
      ],
      "execution_count": null,
      "outputs": []
    },
    {
      "cell_type": "code",
      "metadata": {
        "id": "xa4H9JIkY1RB"
      },
      "source": [
        "plt.subplots(figsize=(20,17))\n",
        "job = response['Q5'].unique()\n",
        "length = len(job)\n",
        "\n",
        "for i, j in itertools.zip_longest(job, range(length)):\n",
        "  plt.subplot((length/2), 2, j+1)\n",
        "  data = response[response['Q5'] == i]  \n",
        "  \n",
        "  ide = []\n",
        "  cnt = []\n",
        "  for k in idle:\n",
        "    ide.append(k)\n",
        "    cnt.append(len(data[data['Q9'].str.contains(k)]))\n",
        "  \n",
        "  df = pd.DataFrame(columns=[\"ide\", 'cnt'])\n",
        "  df['ide'] = ide\n",
        "  df['cnt'] = cnt\n",
        "  df = df.sort_values(by='cnt', ascending=False)\n",
        "  sns.barplot(data=df, y='ide', x='cnt')\n",
        "  plt.title(i, size=20)\n",
        "  plt.xlabel('')\n",
        "  plt.ylabel('')"
      ],
      "execution_count": null,
      "outputs": []
    },
    {
      "cell_type": "code",
      "metadata": {
        "id": "MNyiAEgZY1OY"
      },
      "source": [
        "plt.subplots(figsize=(20,17))\n",
        "exp = response['Q6'].unique()\n",
        "exp = np.delete(exp, 6) # 'I have never written code' 코딩경험이 없기 때문에 삭제\n",
        "length = len(exp)\n",
        "\n",
        "for i, j in itertools.zip_longest(exp, range(length)):\n",
        "  plt.subplot((length/2), 2, j+1)\n",
        "  data = response[response['Q6'] == i]  \n",
        "  \n",
        "  ide = []\n",
        "  cnt = []\n",
        "  for k in idle:\n",
        "    ide.append(k)\n",
        "    cnt.append(len(data[data['Q9'].str.contains(k)]))\n",
        "  \n",
        "  df = pd.DataFrame(columns=[\"ide\", 'cnt'])\n",
        "  df['ide'] = ide\n",
        "  df['cnt'] = cnt\n",
        "  df = df.sort_values(by='cnt', ascending=False)\n",
        "  sns.barplot(data=df, y='ide', x='cnt')\n",
        "  plt.title(i, size=20)\n",
        "  plt.subplots_adjust(wspace=0.2, hspace=0.5)\n",
        "  plt.xlabel('')\n",
        "  plt.ylabel('')"
      ],
      "execution_count": null,
      "outputs": []
    },
    {
      "cell_type": "markdown",
      "metadata": {
        "id": "rx5KP8XKbqgG"
      },
      "source": [
        "## Q14 시각화 툴"
      ]
    },
    {
      "cell_type": "code",
      "metadata": {
        "id": "-V81sXfkG1Zd"
      },
      "source": [
        "visual = ['Matplotlib', 'Seaborn', 'Plotly', 'ggplot', 'Shiny', 'D3 js', 'Altair', 'Bokeh', 'Geoplotlib',\n",
        "       'Leaflet', 'None', 'Other']"
      ],
      "execution_count": null,
      "outputs": []
    },
    {
      "cell_type": "code",
      "metadata": {
        "id": "dc4dpyhPG1Wz"
      },
      "source": [
        "plt.subplots(figsize=(20,17))\n",
        "job = response['Q5'].unique()\n",
        "length = len(job)\n",
        "\n",
        "for i, j in itertools.zip_longest(job, range(length)):\n",
        "  plt.subplot((length/2), 2, j+1)\n",
        "  data = response[response['Q5'] == i]  \n",
        "  \n",
        "  vis = []\n",
        "  cnt = []\n",
        "  for k in visual:\n",
        "    vis.append(k)\n",
        "    cnt.append(len(data[data['Q14'].str.contains(k)]))\n",
        "  \n",
        "  df = pd.DataFrame(columns=[\"vis\", 'cnt'])\n",
        "  df['vis'] = vis\n",
        "  df['cnt'] = cnt\n",
        "  df = df.sort_values(by='cnt', ascending=False)\n",
        "  sns.barplot(data=df, y='vis', x='cnt')\n",
        "  plt.title(i, size=20)\n",
        "  plt.xlabel('')\n",
        "  plt.ylabel('')"
      ],
      "execution_count": null,
      "outputs": []
    },
    {
      "cell_type": "code",
      "metadata": {
        "id": "J3iOPL0KG1UP"
      },
      "source": [
        "plt.subplots(figsize=(20,17))\n",
        "exp = response['Q6'].unique()\n",
        "exp = np.delete(exp, 6) # 'I have never written code' 코딩경험이 없기 때문에 삭제\n",
        "length = len(exp)\n",
        "\n",
        "for i, j in itertools.zip_longest(exp, range(length)):\n",
        "  plt.subplot((length/2), 2, j+1)\n",
        "  data = response[response['Q6'] == i]  \n",
        "  \n",
        "  vis = []\n",
        "  cnt = []\n",
        "  for k in visual:\n",
        "    vis.append(k)\n",
        "    cnt.append(len(data[data['Q14'].str.contains(k)]))\n",
        "  \n",
        "  df = pd.DataFrame(columns=[\"vis\", 'cnt'])\n",
        "  df['vis'] = vis\n",
        "  df['cnt'] = cnt\n",
        "  df = df.sort_values(by='cnt', ascending=False)\n",
        "  sns.barplot(data=df, y='vis', x='cnt')\n",
        "  plt.title(i, size=20)\n",
        "  plt.subplots_adjust(wspace=0.2, hspace=0.5)\n",
        "  plt.xlabel('')\n",
        "  plt.ylabel('')"
      ],
      "execution_count": null,
      "outputs": []
    },
    {
      "cell_type": "markdown",
      "metadata": {
        "id": "shfhk67tcubK"
      },
      "source": [
        "## Q15 M/L 사용 년수"
      ]
    },
    {
      "cell_type": "code",
      "metadata": {
        "id": "LkxIBjEgG1O-"
      },
      "source": [
        "response['Q15'].unique()"
      ],
      "execution_count": null,
      "outputs": []
    },
    {
      "cell_type": "code",
      "metadata": {
        "id": "N2sE8pw3G1Ro"
      },
      "source": [
        "plt.subplots(figsize=(20,15))\n",
        "job = response['Q5'].unique()\n",
        "length = len(job)\n",
        "col_color = {'Under 1 year':'r',\n",
        "             'I do not use machine learning methods':'#273c75',\n",
        "             '1-2 years':'#273c75',\n",
        "             '2-3 years':'#273c75',\n",
        "             '3-4 years':'#273c75',\n",
        "             '4-5 years':'#273c75',\n",
        "             '5-10 years':'#273c75',\n",
        "             '10-20 years':'#273c75',\n",
        "             '20 or more years':'#273c75',\n",
        "             '':'#273c75'}\n",
        "\n",
        "for i, j in itertools.zip_longest(job, range(length)):\n",
        "  plt.subplot((length/2), 2, j+1)\n",
        "  data = response[response['Q5'] == i]['Q15'].value_counts(ascending=True)\n",
        "  data.plot(kind='barh', color=pd.DataFrame(data).reset_index()['index'].replace(col_color))\n",
        "  plt.title(i, size=20)"
      ],
      "execution_count": null,
      "outputs": []
    },
    {
      "cell_type": "code",
      "metadata": {
        "id": "uXsbUGpXG1Mp"
      },
      "source": [
        "plt.subplots(figsize=(20,20))\n",
        "exp = response['Q15'].unique()\n",
        "length = len(exp)\n",
        "col_color = {'DA':'r',\n",
        "             'DE':'#273c75',\n",
        "             'DS':'#273c75',\n",
        "             'OTHER':'#273c75'}\n",
        "\n",
        "for i, j in itertools.zip_longest(exp, range(length)):\n",
        "  plt.subplot((length/2), 2, j+1)\n",
        "  data = response[response['Q15'] == i]['Q5'].value_counts(ascending=True)\n",
        "  data.plot(kind='barh', color=pd.DataFrame(data).reset_index()['index'].replace(col_color))\n",
        "  plt.title(i, size=20)"
      ],
      "execution_count": null,
      "outputs": []
    },
    {
      "cell_type": "markdown",
      "metadata": {
        "id": "LONoA0SHpYqm"
      },
      "source": [
        "# Q20 현재 종사 산업군 (or 과거 산업군)"
      ]
    },
    {
      "cell_type": "code",
      "metadata": {
        "id": "7jMtcLL-VIFQ"
      },
      "source": [
        "sorted(response['Q20'].unique())"
      ],
      "execution_count": null,
      "outputs": []
    },
    {
      "cell_type": "code",
      "metadata": {
        "id": "jPyDV7sAoj2-"
      },
      "source": [
        "sorted(response['Q20'].unique())[1:]"
      ],
      "execution_count": null,
      "outputs": []
    },
    {
      "cell_type": "code",
      "metadata": {
        "id": "bLcpbeGboWLO"
      },
      "source": [
        "response['Q20'].value_counts()"
      ],
      "execution_count": null,
      "outputs": []
    },
    {
      "cell_type": "code",
      "metadata": {
        "id": "vIj_c1hCVIFR"
      },
      "source": [
        "plt.subplots(figsize=(20,17))\n",
        "job = response['Q5'].unique()\n",
        "length = len(job)\n",
        "job_uni = sorted(response['Q20'].unique())[1:] # 빈 공백 제거\n",
        "\n",
        "for i, j in itertools.zip_longest(job, range(length)):\n",
        "  plt.subplot((length/2), 2, j+1)\n",
        "  data = response[response['Q5'] == i]  \n",
        "  \n",
        "  jobs = []\n",
        "  cnt = []\n",
        "  for k in job_uni:\n",
        "    jobs.append(k)\n",
        "    cnt.append(len(data[data['Q20']==k]))\n",
        "  \n",
        "  df = pd.DataFrame(columns=[\"jobs\", 'cnt'])\n",
        "  df['jobs'] = jobs\n",
        "  df['cnt'] = cnt\n",
        "  df = df.sort_values(by='cnt', ascending=False)\n",
        "  sns.barplot(data=df[:10], y='jobs', x='cnt')\n",
        "  plt.title(i, size=20)\n",
        "  plt.xlabel('')\n",
        "  plt.ylabel('')"
      ],
      "execution_count": null,
      "outputs": []
    },
    {
      "cell_type": "code",
      "metadata": {
        "id": "DIreFLStVIFR"
      },
      "source": [
        "plt.subplots(figsize=(20,17))\n",
        "job = response['Q6'].unique()\n",
        "length = len(job)\n",
        "job_uni = sorted(response['Q20'].unique())[1:] # 빈 공백 제거\n",
        "\n",
        "for i, j in itertools.zip_longest(job, range(length)):\n",
        "  plt.subplot((length/2), 3, j+1)\n",
        "  data = response[response['Q6'] == i]  \n",
        "  \n",
        "  jobs = []\n",
        "  cnt = []\n",
        "  for k in job_uni:\n",
        "    jobs.append(k)\n",
        "    cnt.append(len(data[data['Q20']==k]))\n",
        "  \n",
        "  df = pd.DataFrame(columns=[\"jobs\", 'cnt'])\n",
        "  df['jobs'] = jobs\n",
        "  df['cnt'] = cnt\n",
        "  df = df.sort_values(by='cnt', ascending=False)\n",
        "  sns.barplot(data=df[:10], y='jobs', x='cnt')\n",
        "  plt.title(i, size=20)\n",
        "  plt.xlabel('')\n",
        "  plt.ylabel('')"
      ],
      "execution_count": null,
      "outputs": []
    },
    {
      "cell_type": "markdown",
      "metadata": {
        "id": "O6PSbmdgpwp0"
      },
      "source": [
        "# Q21 회사 규모"
      ]
    },
    {
      "cell_type": "code",
      "metadata": {
        "id": "5nTYKzYcqpy5"
      },
      "source": [
        "sorted(response['Q21'].unique())"
      ],
      "execution_count": null,
      "outputs": []
    },
    {
      "cell_type": "code",
      "metadata": {
        "id": "LZaKBVtqqr_q"
      },
      "source": [
        "response['Q21'].value_counts()"
      ],
      "execution_count": null,
      "outputs": []
    },
    {
      "cell_type": "code",
      "metadata": {
        "id": "fMIUzBqeVIFR"
      },
      "source": [
        "plt.subplots(figsize=(20,17))\n",
        "job = response['Q5'].unique()\n",
        "length = len(job)\n",
        "sizes = sorted(response['Q21'].unique())[1:]\n",
        "\n",
        "\n",
        "for i, j in itertools.zip_longest(job, range(length)):\n",
        "  plt.subplot((length/2), 2, j+1)\n",
        "  data = response[response['Q5'] == i]  \n",
        "  \n",
        "  size = []\n",
        "  cnt = []\n",
        "  for k in sizes:\n",
        "    size.append(k)\n",
        "    cnt.append(len(data[data['Q21']==k]))\n",
        "  \n",
        "  df = pd.DataFrame(columns=[\"size\", 'cnt'])\n",
        "  df['size'] = size\n",
        "  df['cnt'] = cnt\n",
        "  df = df.sort_values(by='cnt', ascending=False)\n",
        "  sns.barplot(data=df, y='size', x='cnt')\n",
        "  plt.title(i, size=20)\n",
        "  plt.xlabel('')\n",
        "  plt.ylabel('')"
      ],
      "execution_count": null,
      "outputs": []
    },
    {
      "cell_type": "code",
      "metadata": {
        "id": "1nMvmVtkVIFR"
      },
      "source": [
        "plt.subplots(figsize=(20,17))\n",
        "job = response['Q6'].unique()\n",
        "length = len(job)\n",
        "sizes = sorted(response['Q21'].unique())[1:]\n",
        "\n",
        "\n",
        "for i, j in itertools.zip_longest(job, range(length)):\n",
        "  plt.subplot((length/2), 3, j+1)\n",
        "  data = response[response['Q6'] == i]  \n",
        "  \n",
        "  size = []\n",
        "  cnt = []\n",
        "  for k in sizes:\n",
        "    size.append(k)\n",
        "    cnt.append(len(data[data['Q21']==k]))\n",
        "  \n",
        "  df = pd.DataFrame(columns=[\"size\", 'cnt'])\n",
        "  df['size'] = size\n",
        "  df['cnt'] = cnt\n",
        "  df = df.sort_values(by='cnt', ascending=False)\n",
        "  sns.barplot(data=df, y='size', x='cnt')\n",
        "  plt.title(i, size=20)\n",
        "  plt.xlabel('')\n",
        "  plt.ylabel('')"
      ],
      "execution_count": null,
      "outputs": []
    },
    {
      "cell_type": "markdown",
      "metadata": {
        "id": "gTfNs2YsUb6w"
      },
      "source": [
        "# Q24 맡은 업무 중 데이터와 관련된 내용"
      ]
    },
    {
      "cell_type": "code",
      "metadata": {
        "id": "KdKBkTtHVIFS"
      },
      "source": [
        "lst = ['Analyze and understand data to influence product or business decisions',\n",
        "       'Build and/or run the data infrastructure that my business uses for storing, analyzing, and operationalizing data',\n",
        "       'Build prototypes to explore applying machine learning to new areas',\n",
        "       'Build and/or run a machine learning service that operationally improves my product or workflows',\n",
        "       'Experimentation and iteration to improve existing ML models',\n",
        "       'Do research that advances the state of the art of machine learning',\n",
        "       'None of these activities are an important part of my role at work',\n",
        "       'Other']"
      ],
      "execution_count": null,
      "outputs": []
    },
    {
      "cell_type": "code",
      "metadata": {
        "id": "vTSSnT9zVIFS"
      },
      "source": [
        "plt.subplots(figsize=(20,17))\n",
        "job = response['Q5'].unique()\n",
        "length = len(job)\n",
        "\n",
        "for i, j in itertools.zip_longest(job, range(length)):\n",
        "  plt.subplot((length/2), 2, j+1)\n",
        "  data = response[response['Q5'] == i]  \n",
        "  \n",
        "  ls = []\n",
        "  cnt = []\n",
        "  for k in lst:\n",
        "    ls.append(k)\n",
        "    cnt.append(len(data[data['Q24'].str.contains(k)]))\n",
        "  \n",
        "  df = pd.DataFrame(columns=[\"ls\", 'cnt'])\n",
        "  df['ls'] = ls\n",
        "  df['cnt'] = cnt\n",
        "  df = df.sort_values(by='cnt', ascending=False)\n",
        "  sns.barplot(data=df, y='ls', x='cnt')\n",
        "  plt.title(i, size=20)\n",
        "  plt.xlabel('')\n",
        "  plt.ylabel('')"
      ],
      "execution_count": null,
      "outputs": []
    },
    {
      "cell_type": "markdown",
      "metadata": {
        "id": "dk5CVHGyvUEM"
      },
      "source": [
        "# Q25 연봉"
      ]
    },
    {
      "cell_type": "code",
      "metadata": {
        "id": "K9DOpWJXvbiH"
      },
      "source": [
        "sorted(response['Q25'].unique())"
      ],
      "execution_count": null,
      "outputs": []
    },
    {
      "cell_type": "code",
      "metadata": {
        "id": "nAZBcf16vuXm"
      },
      "source": [
        "response['Q25'].value_counts()"
      ],
      "execution_count": null,
      "outputs": []
    },
    {
      "cell_type": "code",
      "metadata": {
        "id": "A7UId72CVIFS"
      },
      "source": [
        "plt.subplots(figsize=(20,17))\n",
        "job = response['Q5'].unique()\n",
        "length = len(job)\n",
        "compensation = sorted(response['Q25'].unique())[1:]\n",
        "\n",
        "\n",
        "for i, j in itertools.zip_longest(job, range(length)):\n",
        "  plt.subplot((length/2), 2, j+1)\n",
        "  data = response[response['Q5'] == i]  \n",
        "  \n",
        "  income = []\n",
        "  cnt = []\n",
        "  for k in compensation:\n",
        "    income.append(k)\n",
        "    cnt.append(len(data[data['Q25']==k]))\n",
        "  \n",
        "  df = pd.DataFrame(columns=[\"income\", 'cnt'])\n",
        "  df['income'] = income\n",
        "  df['cnt'] = cnt\n",
        "  df = df.sort_values(by='cnt', ascending=False)\n",
        "  sns.barplot(data=df, y='income', x='cnt')\n",
        "  plt.title(i, size=20)\n",
        "  plt.xlabel('')\n",
        "  plt.ylabel('')"
      ],
      "execution_count": null,
      "outputs": []
    },
    {
      "cell_type": "code",
      "metadata": {
        "id": "bT5I_VARVIFS"
      },
      "source": [
        "plt.subplots(figsize=(20,17))\n",
        "job = response['Q6'].unique()\n",
        "length = len(job)\n",
        "compensation = sorted(response['Q25'].unique())[1:]\n",
        "\n",
        "\n",
        "for i, j in itertools.zip_longest(job, range(length)):\n",
        "  plt.subplot((length/2), 3, j+1)\n",
        "  data = response[response['Q6'] == i]  \n",
        "  \n",
        "  income = []\n",
        "  cnt = []\n",
        "  for k in compensation:\n",
        "    income.append(k)\n",
        "    cnt.append(len(data[data['Q25']==k]))\n",
        "  \n",
        "  df = pd.DataFrame(columns=[\"income\", 'cnt'])\n",
        "  df['income'] = income\n",
        "  df['cnt'] = cnt\n",
        "  df = df.sort_values(by='cnt', ascending=False)\n",
        "  sns.barplot(data=df, y='income', x='cnt')\n",
        "  plt.title(i, size=20)\n",
        "  plt.xlabel('')\n",
        "  plt.ylabel('')"
      ],
      "execution_count": null,
      "outputs": []
    }
  ]
}